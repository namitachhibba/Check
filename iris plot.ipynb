{
 "cells": [
  {
   "cell_type": "code",
   "execution_count": 83,
   "metadata": {},
   "outputs": [],
   "source": [
    "# Import Libraries\n",
    "from bokeh.plotting import figure\n",
    "from bokeh.io import output_file, show, reset_output\n",
    "from bokeh.models import Range1d, ColumnDataSource"
   ]
  },
  {
   "cell_type": "code",
   "execution_count": 84,
   "metadata": {},
   "outputs": [
    {
     "data": {
      "text/html": [
       "<div>\n",
       "<style scoped>\n",
       "    .dataframe tbody tr th:only-of-type {\n",
       "        vertical-align: middle;\n",
       "    }\n",
       "\n",
       "    .dataframe tbody tr th {\n",
       "        vertical-align: top;\n",
       "    }\n",
       "\n",
       "    .dataframe thead th {\n",
       "        text-align: right;\n",
       "    }\n",
       "</style>\n",
       "<table border=\"1\" class=\"dataframe\">\n",
       "  <thead>\n",
       "    <tr style=\"text-align: right;\">\n",
       "      <th></th>\n",
       "      <th>sepal_length</th>\n",
       "      <th>sepal_width</th>\n",
       "      <th>petal_length</th>\n",
       "      <th>petal_width</th>\n",
       "      <th>species</th>\n",
       "      <th>color</th>\n",
       "      <th>size</th>\n",
       "    </tr>\n",
       "  </thead>\n",
       "  <tbody>\n",
       "    <tr>\n",
       "      <th>0</th>\n",
       "      <td>5.1</td>\n",
       "      <td>3.5</td>\n",
       "      <td>1.4</td>\n",
       "      <td>0.2</td>\n",
       "      <td>setosa</td>\n",
       "      <td>red</td>\n",
       "      <td>14.0</td>\n",
       "    </tr>\n",
       "    <tr>\n",
       "      <th>1</th>\n",
       "      <td>4.9</td>\n",
       "      <td>3.0</td>\n",
       "      <td>1.4</td>\n",
       "      <td>0.2</td>\n",
       "      <td>setosa</td>\n",
       "      <td>red</td>\n",
       "      <td>12.0</td>\n",
       "    </tr>\n",
       "    <tr>\n",
       "      <th>2</th>\n",
       "      <td>4.7</td>\n",
       "      <td>3.2</td>\n",
       "      <td>1.3</td>\n",
       "      <td>0.2</td>\n",
       "      <td>setosa</td>\n",
       "      <td>red</td>\n",
       "      <td>12.8</td>\n",
       "    </tr>\n",
       "    <tr>\n",
       "      <th>3</th>\n",
       "      <td>4.6</td>\n",
       "      <td>3.1</td>\n",
       "      <td>1.5</td>\n",
       "      <td>0.2</td>\n",
       "      <td>setosa</td>\n",
       "      <td>red</td>\n",
       "      <td>12.4</td>\n",
       "    </tr>\n",
       "    <tr>\n",
       "      <th>4</th>\n",
       "      <td>5.0</td>\n",
       "      <td>3.6</td>\n",
       "      <td>1.4</td>\n",
       "      <td>0.2</td>\n",
       "      <td>setosa</td>\n",
       "      <td>red</td>\n",
       "      <td>14.4</td>\n",
       "    </tr>\n",
       "  </tbody>\n",
       "</table>\n",
       "</div>"
      ],
      "text/plain": [
       "   sepal_length  sepal_width  petal_length  petal_width species color  size\n",
       "0           5.1          3.5           1.4          0.2  setosa   red  14.0\n",
       "1           4.9          3.0           1.4          0.2  setosa   red  12.0\n",
       "2           4.7          3.2           1.3          0.2  setosa   red  12.8\n",
       "3           4.6          3.1           1.5          0.2  setosa   red  12.4\n",
       "4           5.0          3.6           1.4          0.2  setosa   red  14.4"
      ]
     },
     "execution_count": 84,
     "metadata": {},
     "output_type": "execute_result"
    }
   ],
   "source": [
    "# Import data\n",
    "from bokeh.sampledata.iris import flowers\n",
    "# Check data\n",
    "flowers.head()"
   ]
  },
  {
   "cell_type": "code",
   "execution_count": 79,
   "metadata": {},
   "outputs": [],
   "source": [
    "# Define the output file path\n",
    "output_file(\"iris.html\")\n",
    "# Creating the figure object\n",
    "f = figure()"
   ]
  },
  {
   "cell_type": "code",
   "execution_count": 80,
   "metadata": {},
   "outputs": [
    {
     "data": {
      "text/html": [
       "<div>\n",
       "<style scoped>\n",
       "    .dataframe tbody tr th:only-of-type {\n",
       "        vertical-align: middle;\n",
       "    }\n",
       "\n",
       "    .dataframe tbody tr th {\n",
       "        vertical-align: top;\n",
       "    }\n",
       "\n",
       "    .dataframe thead th {\n",
       "        text-align: right;\n",
       "    }\n",
       "</style>\n",
       "<table border=\"1\" class=\"dataframe\">\n",
       "  <thead>\n",
       "    <tr style=\"text-align: right;\">\n",
       "      <th></th>\n",
       "      <th>sepal_length</th>\n",
       "      <th>sepal_width</th>\n",
       "      <th>petal_length</th>\n",
       "      <th>petal_width</th>\n",
       "      <th>species</th>\n",
       "      <th>color</th>\n",
       "      <th>size</th>\n",
       "    </tr>\n",
       "  </thead>\n",
       "  <tbody>\n",
       "    <tr>\n",
       "      <th>0</th>\n",
       "      <td>5.1</td>\n",
       "      <td>3.5</td>\n",
       "      <td>1.4</td>\n",
       "      <td>0.2</td>\n",
       "      <td>setosa</td>\n",
       "      <td>red</td>\n",
       "      <td>14.0</td>\n",
       "    </tr>\n",
       "    <tr>\n",
       "      <th>1</th>\n",
       "      <td>4.9</td>\n",
       "      <td>3.0</td>\n",
       "      <td>1.4</td>\n",
       "      <td>0.2</td>\n",
       "      <td>setosa</td>\n",
       "      <td>red</td>\n",
       "      <td>12.0</td>\n",
       "    </tr>\n",
       "    <tr>\n",
       "      <th>2</th>\n",
       "      <td>4.7</td>\n",
       "      <td>3.2</td>\n",
       "      <td>1.3</td>\n",
       "      <td>0.2</td>\n",
       "      <td>setosa</td>\n",
       "      <td>red</td>\n",
       "      <td>12.8</td>\n",
       "    </tr>\n",
       "    <tr>\n",
       "      <th>3</th>\n",
       "      <td>4.6</td>\n",
       "      <td>3.1</td>\n",
       "      <td>1.5</td>\n",
       "      <td>0.2</td>\n",
       "      <td>setosa</td>\n",
       "      <td>red</td>\n",
       "      <td>12.4</td>\n",
       "    </tr>\n",
       "    <tr>\n",
       "      <th>4</th>\n",
       "      <td>5.0</td>\n",
       "      <td>3.6</td>\n",
       "      <td>1.4</td>\n",
       "      <td>0.2</td>\n",
       "      <td>setosa</td>\n",
       "      <td>red</td>\n",
       "      <td>14.4</td>\n",
       "    </tr>\n",
       "  </tbody>\n",
       "</table>\n",
       "</div>"
      ],
      "text/plain": [
       "   sepal_length  sepal_width  petal_length  petal_width species color  size\n",
       "0           5.1          3.5           1.4          0.2  setosa   red  14.0\n",
       "1           4.9          3.0           1.4          0.2  setosa   red  12.0\n",
       "2           4.7          3.2           1.3          0.2  setosa   red  12.8\n",
       "3           4.6          3.1           1.5          0.2  setosa   red  12.4\n",
       "4           5.0          3.6           1.4          0.2  setosa   red  14.4"
      ]
     },
     "execution_count": 80,
     "metadata": {},
     "output_type": "execute_result"
    }
   ],
   "source": [
    "flowers.head()"
   ]
  },
  {
   "cell_type": "code",
   "execution_count": 81,
   "metadata": {},
   "outputs": [],
   "source": [
    "# dir(f) # To check what elements can be applied to figure object and using them below"
   ]
  },
  {
   "cell_type": "markdown",
   "metadata": {},
   "source": [
    "### Stylize the plot area"
   ]
  },
  {
   "cell_type": "code",
   "execution_count": 82,
   "metadata": {},
   "outputs": [],
   "source": [
    "# Stylize the plot area\n",
    "f.plot_width = 1100                 # To change the width of the plot\n",
    "f.plot_height = 650                 # To change the height of plot\n",
    "\n",
    "\n",
    "f.background_fill_color = \"olive\"   # To add background colorto the figure\n",
    "# f.background_fill_color=\"#CD5C5C\"   # using RGB hex values\n",
    "# f.background_fill_color=(205,92,92) # using a tuple signifying RGB values where the three values specify the intensity of red, green and blue\n",
    "# And we can also pass the alpha channel into that tuple to control transparency:\n",
    "# f.background_fill_color=(205,92,92,0.3) \n",
    "\n",
    "f.background_fill_alpha = 0.5      # To add transparency to background color\n",
    "f.border_fill_color = \"Snow\"\n",
    "f.border_fill_alpha = 0.3"
   ]
  },
  {
   "cell_type": "markdown",
   "metadata": {},
   "source": [
    "### To stylize the chart title"
   ]
  },
  {
   "cell_type": "code",
   "execution_count": 60,
   "metadata": {},
   "outputs": [],
   "source": [
    "# dir(f.title) # To check the elements which can be applied o the figure title"
   ]
  },
  {
   "cell_type": "code",
   "execution_count": 61,
   "metadata": {},
   "outputs": [],
   "source": [
    "f.title.text = \"Iris Morphology\"\n",
    "f.title.text_color = \"olive\"\n",
    "f.title.text_font = \"times\"\n",
    "f.title.text_font_size = \"25px\" # px stands for pixel. Have to mention.\n",
    "f.title.align = \"center\""
   ]
  },
  {
   "cell_type": "markdown",
   "metadata": {},
   "source": [
    "### To style the axes"
   ]
  },
  {
   "cell_type": "code",
   "execution_count": 62,
   "metadata": {},
   "outputs": [],
   "source": [
    "# dir(f.axis)"
   ]
  },
  {
   "cell_type": "code",
   "execution_count": 63,
   "metadata": {},
   "outputs": [],
   "source": [
    "f.axis.minor_tick_line_color = \"blue\" # if = \"None\" then minor icks do not show\n",
    "f.yaxis.major_label_orientation = \"vertical\"\n",
    "f.xaxis.visible = True # False if you don't want anything to show on axis\n",
    "f.xaxis.minor_tick_in = -6 # To move the minor tick marks in to the chart by -6 units\n",
    "# (negative means this much away/far/out from the axis line)\n",
    "f.yaxis.minor_tick_out = 3  # to se the size of tickmarks on outside of axis\n",
    "f.xaxis.axis_label = \"Petal Length\"\n",
    "f.yaxis.axis_label = \"Petal width\"\n",
    "f.axis.axis_label_text_font_size = \"14px\"\n",
    "f.axis.axis_label_text_font_style = \"normal\" # \"bold\", \"italic\"\n",
    "f.axis.axis_label_text_color = \"olive\" # for axis labels text color\n",
    "f.axis.major_label_text_color = \"crimson\" # for axis' major tick marks' labels value color"
   ]
  },
  {
   "cell_type": "markdown",
   "metadata": {},
   "source": [
    "### Axes Geometry"
   ]
  },
  {
   "cell_type": "code",
   "execution_count": 64,
   "metadata": {},
   "outputs": [],
   "source": [
    "from bokeh.models import Range1d, ColumnDataSource\n",
    "f.x_range = Range1d(start = 0, end = 10)\n",
    "f.y_range = Range1d(start = 0, end = 5)\n",
    "# f.xaxis.bounds = (2,5)\n",
    "f.xaxis.ticker.desired_num_ticks = 5 # Fixing no. of major ticks on x axis\n",
    "# if more than 1 xaxis then f.xaxis[0].ticker.desired_num_ticks = 2 or f.xaxis[1].ticker.desired_num_ticks = 2 and so on...\n",
    "f.yaxis.ticker.desired_num_ticks = 5\n",
    "f.yaxis.ticker.num_minor_ticks = 10"
   ]
  },
  {
   "cell_type": "markdown",
   "metadata": {},
   "source": [
    "### Style the grid"
   ]
  },
  {
   "cell_type": "code",
   "execution_count": 65,
   "metadata": {},
   "outputs": [],
   "source": [
    "f.xgrid.grid_line_color = \"green\"\n",
    "f.ygrid.grid_line_color = \"green\"\n",
    "f.ygrid.grid_line_alpha = 0.7\n",
    "f.grid.grid_line_dash = [5,3] # dashed line with 5 pixels of line and then 3 pixels emptyness"
   ]
  },
  {
   "cell_type": "markdown",
   "metadata": {},
   "source": [
    "### Style the tools"
   ]
  },
  {
   "cell_type": "code",
   "execution_count": 66,
   "metadata": {},
   "outputs": [],
   "source": [
    "import bokeh.models\n",
    "# dir(bokeh.models.tools)"
   ]
  },
  {
   "cell_type": "code",
   "execution_count": 67,
   "metadata": {},
   "outputs": [],
   "source": [
    "from bokeh.models import ZoomInTool,ZoomOutTool, ResetTool, HoverTool\n",
    "f.tools = [ZoomInTool(),ZoomOutTool(), ResetTool()]\n",
    "# f.add_tools(HoverTool()) # To add the tools other than ones specified above\n",
    "f.toolbar_location = \"above\" # To change the location of toolbar, which by default is at right side of plot\n",
    "f.toolbar.logo = None # To remove bokeh logo from toolbar"
   ]
  },
  {
   "cell_type": "markdown",
   "metadata": {},
   "source": [
    "###  Plotting"
   ]
  },
  {
   "cell_type": "markdown",
   "metadata": {},
   "source": [
    "#### Adding glyphs I: Using only 2 attributes: one along x axis and other along y axis"
   ]
  },
  {
   "cell_type": "code",
   "execution_count": 68,
   "metadata": {},
   "outputs": [],
   "source": [
    "# f.circle(x=flowers[\"petal_length\"], y = flowers[\"petal_width\"])"
   ]
  },
  {
   "cell_type": "markdown",
   "metadata": {},
   "source": [
    "#### Adding glyphs II : Adding 2 more columns to plot besides x and y. The new dimensions are size and color. "
   ]
  },
  {
   "cell_type": "code",
   "execution_count": 69,
   "metadata": {},
   "outputs": [],
   "source": [
    "# # Creating color column\n",
    "# # By creating a map for colors using dictionary as follows:\n",
    "# colormap = {\"setosa\":\"red\", \"versicolor\":\"green\",\"virginica\":\"blue\"} # Giving names to colors\n",
    "# flowers[\"color\"] = [colormap[x] for x in flowers[\"species\"]]\n",
    "\n",
    "# # Creating size column \n",
    "# flowers['size'] = flowers['sepal_width'] * 4\n",
    "\n",
    "# f.circle(x=flowers[\"petal_length\"], y = flowers[\"petal_width\"],\n",
    "#          size =flowers[\"sepal_width\"]*4, fill_alpha = 0.15,\n",
    "#          color = flowers[\"color\"],\n",
    "#          line_dash = [5,3]) # line_dash is to have dashed circumference for each circle 5 pixels line, 3 pixels empty space"
   ]
  },
  {
   "cell_type": "markdown",
   "metadata": {},
   "source": [
    "#### Adding glyphs III : Adding 2 more columns to plot as size and color and using legends"
   ]
  },
  {
   "cell_type": "markdown",
   "metadata": {},
   "source": [
    "##### Legend Configuring & Styling"
   ]
  },
  {
   "cell_type": "markdown",
   "metadata": {},
   "source": [
    "###### a) Legend Configuring: Plotting \"without\" converting to Column Data Source (using our original pandas dataframe): Hover text doesn't work properly"
   ]
  },
  {
   "cell_type": "code",
   "execution_count": 70,
   "metadata": {},
   "outputs": [],
   "source": [
    "# for i in flowers['species'].unique():\n",
    "#     f.circle(x=flowers[\"petal_length\"][flowers[\"species\"]==i], y = flowers[\"petal_width\"][flowers[\"species\"]==i],\n",
    "#              size =flowers[\"sepal_width\"][flowers[\"species\"]==i]*4, fill_alpha = 0.15,\n",
    "#              color = flowers[\"color\"][flowers[\"species\"]==i],\n",
    "#              line_dash = [5,3], legend_label = i.title())   # .title() changes the 1st letter of the string entered to capital  "
   ]
  },
  {
   "cell_type": "markdown",
   "metadata": {},
   "source": [
    "###### b) Legend Configuring: Plotting by converting to Column Data Source"
   ]
  },
  {
   "cell_type": "code",
   "execution_count": 71,
   "metadata": {},
   "outputs": [],
   "source": [
    "colormap = {\"setosa\":\"red\", \"versicolor\":\"green\",\"virginica\":\"blue\"} # Giving names to colors\n",
    "# Creating color column using list comprehension\n",
    "flowers[\"color\"] = [colormap[x] for x in flowers[\"species\"]]\n",
    "\n",
    "# Creating size column \n",
    "flowers['size'] = flowers['sepal_width'] * 4"
   ]
  },
  {
   "cell_type": "code",
   "execution_count": 72,
   "metadata": {},
   "outputs": [],
   "source": [
    "for i in flowers['species'].unique():\n",
    "    f.circle(x=\"petal_length\", y = \"petal_width\",\n",
    "             size =\"size\", fill_alpha = 0.15,\n",
    "             color =\"color\",line_dash = [5,3], \n",
    "             legend_label = i.title(), \n",
    "             source = ColumnDataSource(flowers[flowers[\"species\"]==i])) "
   ]
  },
  {
   "cell_type": "markdown",
   "metadata": {},
   "source": [
    "###### Legend Styling"
   ]
  },
  {
   "cell_type": "code",
   "execution_count": 73,
   "metadata": {},
   "outputs": [],
   "source": [
    "# dir(f.legend)\n",
    "\n",
    "f.legend.location = (10, 555)\n",
    "f.legend.location = \"top_left\"\n",
    "f.legend.background_fill_alpha = 0.1\n",
    "f.legend.border_line_color = None\n",
    "f.legend.margin = 10\n",
    "f.legend.padding = 5\n",
    "f.legend.label_text_color = \"olive\"\n",
    "f.legend.label_text_font = \"times\"\n",
    "f.legend.label_text_font_size = '14px'"
   ]
  },
  {
   "cell_type": "code",
   "execution_count": 74,
   "metadata": {},
   "outputs": [],
   "source": [
    "# To use tooltip we need to use local bokeh data structure which is column data source\n",
    "# there is a restriction in using pandas dataframe when it comes to acquiring data from graphs or other sources of interactions\n",
    "# such as having widgets in the graph for user to interact with graph.\n",
    "# So everything which needs dynamic actions for interactivity needs to have column data source to feed the glyphs that we construct\n",
    "\n",
    "# So here we need to construct column data source from pandas dataframe\n",
    "hover = HoverTool(tooltips = [(\"Species\", \"@species\"), (\"Sepal Width\", \"@sepal_width\")])\n",
    "f.add_tools(hover) # Customization of HoverTool\n",
    "show(f)"
   ]
  },
  {
   "cell_type": "code",
   "execution_count": null,
   "metadata": {},
   "outputs": [],
   "source": []
  }
 ],
 "metadata": {
  "kernelspec": {
   "display_name": "Python 3",
   "language": "python",
   "name": "python3"
  },
  "language_info": {
   "codemirror_mode": {
    "name": "ipython",
    "version": 3
   },
   "file_extension": ".py",
   "mimetype": "text/x-python",
   "name": "python",
   "nbconvert_exporter": "python",
   "pygments_lexer": "ipython3",
   "version": "3.7.3"
  },
  "toc": {
   "base_numbering": 1,
   "nav_menu": {},
   "number_sections": true,
   "sideBar": true,
   "skip_h1_title": false,
   "title_cell": "Table of Contents",
   "title_sidebar": "Contents",
   "toc_cell": false,
   "toc_position": {},
   "toc_section_display": true,
   "toc_window_display": false
  }
 },
 "nbformat": 4,
 "nbformat_minor": 2
}
